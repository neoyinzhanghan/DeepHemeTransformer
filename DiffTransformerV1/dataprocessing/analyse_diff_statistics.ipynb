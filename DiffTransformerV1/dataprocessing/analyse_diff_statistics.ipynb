{
 "cells": [
  {
   "cell_type": "code",
   "execution_count": null,
   "metadata": {
    "vscode": {
     "languageId": "plaintext"
    }
   },
   "outputs": [],
   "source": []
  },
  {
   "cell_type": "code",
   "execution_count": null,
   "metadata": {},
   "outputs": [],
   "source": [
    "import pandas as pd\n",
    "from BMAassumptions import BMA_final_classes\n",
    "\n",
    "diff_data_path = \"/media/hdd3/neo/DiffTransformerV1DataMini/diff_data.csv\"\n",
    "pipeline_diff_path = \"/media/hdd3/neo/DiffTransformerV1DataMini/pipeline_diff.csv\"\n",
    "\n",
    "diff_data = pd.read_csv(diff_data_path)\n",
    "pipeline_diff = pd.read_csv(pipeline_diff_path)\n",
    "\n",
    "paired_diff_data = {\n",
    "    \"accession_number\": [],\n",
    "    \"result_dir_name\": [],\n",
    "    \"diff\": [],\n",
    "    \"pipeline_diff\": [],\n",
    "}"
   ]
  }
 ],
 "metadata": {
  "language_info": {
   "name": "python"
  }
 },
 "nbformat": 4,
 "nbformat_minor": 2
}
