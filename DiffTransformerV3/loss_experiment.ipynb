{
 "cells": [
  {
   "cell_type": "code",
   "execution_count": 43,
   "metadata": {},
   "outputs": [
    {
     "name": "stdout",
     "output_type": "stream",
     "text": [
      "2.1629972075642274\n"
     ]
    }
   ],
   "source": [
    "from math import log as ln\n",
    "import numpy as np\n",
    "\n",
    "# Generate a random vector of positive floats that sums to 1\n",
    "vector = np.random.rand(9)\n",
    "vector /= vector.sum()\n",
    "\n",
    "vec1 = list(vector)\n",
    "vec2 = list(vector)\n",
    "\n",
    "loss_sum = 0\n",
    "for i in range(len(vec1)):\n",
    "    loss_sum += vec1[i] * (-ln(vec2[i]))\n",
    "\n",
    "print(loss_sum)"
   ]
  }
 ],
 "metadata": {
  "kernelspec": {
   "display_name": "LL-dev",
   "language": "python",
   "name": "python3"
  },
  "language_info": {
   "codemirror_mode": {
    "name": "ipython",
    "version": 3
   },
   "file_extension": ".py",
   "mimetype": "text/x-python",
   "name": "python",
   "nbconvert_exporter": "python",
   "pygments_lexer": "ipython3",
   "version": "3.8.10"
  }
 },
 "nbformat": 4,
 "nbformat_minor": 2
}
